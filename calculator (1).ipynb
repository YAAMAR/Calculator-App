{
 "cells": [
  {
   "cell_type": "markdown",
   "id": "db55053e-77bd-4f69-aff4-e5d865480d6a",
   "metadata": {},
   "source": [
    "***Simple Calculator App***"
   ]
  },
  {
   "cell_type": "markdown",
   "id": "76ad92e2-9381-47f4-999d-9834927273c4",
   "metadata": {},
   "source": [
    "🎯 Goal\n",
    "Build a calculator that can:\n",
    "\n",
    "Add\n",
    "Subtract\n",
    "Multiply\n",
    "Divide two numbers"
   ]
  },
  {
   "cell_type": "markdown",
   "id": "59e458b8-36eb-48ae-8ffc-57586ea7ba7b",
   "metadata": {},
   "source": [
    "Define Arithmetic Functions"
   ]
  },
  {
   "cell_type": "code",
   "execution_count": 3,
   "id": "bb3f408c-a25e-42e9-ac00-f8a2325f7169",
   "metadata": {},
   "outputs": [],
   "source": [
    "def add(a, b):\n",
    "    return a + b\n",
    "\n",
    "def subtract(a, b):\n",
    "    return a - b\n",
    "\n",
    "def multiply(a, b):\n",
    "    return a * b\n",
    "\n",
    "def divide(a, b):\n",
    "    if b != 0:\n",
    "        return a / b\n",
    "    else:\n",
    "        return \"Cannot divide by zero\"\n"
   ]
  },
  {
   "cell_type": "markdown",
   "id": "8bbac049-4321-4907-98bb-e40bd200348f",
   "metadata": {},
   "source": [
    "Show Menu to User"
   ]
  },
  {
   "cell_type": "code",
   "execution_count": 4,
   "id": "902b1c4d-f9dc-4a02-a2ad-27f8d98c3d50",
   "metadata": {},
   "outputs": [
    {
     "name": "stdout",
     "output_type": "stream",
     "text": [
      "Welcome to Simple Calculator\n",
      "Select operation:\n",
      "1. Add\n",
      "2. Subtract\n",
      "3. Multiply\n",
      "4. Divide\n"
     ]
    }
   ],
   "source": [
    "print(\"Welcome to Simple Calculator\")\n",
    "print(\"Select operation:\")\n",
    "print(\"1. Add\")\n",
    "print(\"2. Subtract\")\n",
    "print(\"3. Multiply\")\n",
    "print(\"4. Divide\")\n"
   ]
  },
  {
   "cell_type": "markdown",
   "id": "104e992f-17a0-4b85-8c24-7bcdb7774e15",
   "metadata": {},
   "source": [
    "Use a Loop for Repetition"
   ]
  },
  {
   "cell_type": "code",
   "execution_count": null,
   "id": "736592a8-a1bc-483a-b795-4fff8d11caf9",
   "metadata": {},
   "outputs": [
    {
     "name": "stdin",
     "output_type": "stream",
     "text": [
      "Enter choice (1/2/3/4) or 'q' to quit:  4\n",
      "Enter first number:  5\n",
      "Enter second number:  2\n"
     ]
    },
    {
     "name": "stdout",
     "output_type": "stream",
     "text": [
      "Result: 2.5\n"
     ]
    },
    {
     "name": "stdin",
     "output_type": "stream",
     "text": [
      "Enter choice (1/2/3/4) or 'q' to quit:  3\n",
      "Enter first number:  4\n",
      "Enter second number:  8\n"
     ]
    },
    {
     "name": "stdout",
     "output_type": "stream",
     "text": [
      "Result: 32.0\n"
     ]
    },
    {
     "name": "stdin",
     "output_type": "stream",
     "text": [
      "Enter choice (1/2/3/4) or 'q' to quit:  5\n"
     ]
    },
    {
     "name": "stdout",
     "output_type": "stream",
     "text": [
      "Invalid input. Please try again.\n"
     ]
    },
    {
     "name": "stdin",
     "output_type": "stream",
     "text": [
      "Enter choice (1/2/3/4) or 'q' to quit:  7\n"
     ]
    },
    {
     "name": "stdout",
     "output_type": "stream",
     "text": [
      "Invalid input. Please try again.\n"
     ]
    },
    {
     "name": "stdin",
     "output_type": "stream",
     "text": [
      "Enter choice (1/2/3/4) or 'q' to quit:  ok\n"
     ]
    },
    {
     "name": "stdout",
     "output_type": "stream",
     "text": [
      "Invalid input. Please try again.\n"
     ]
    }
   ],
   "source": [
    "while True:\n",
    "    choice = input(\"Enter choice (1/2/3/4) or 'q' to quit: \")\n",
    "\n",
    "    if choice == 'q':\n",
    "        print(\"Thank you for using the calculator!\")\n",
    "        break\n",
    "\n",
    "    if choice in ('1', '2', '3', '4'):\n",
    "        num1 = float(input(\"Enter first number: \"))\n",
    "        num2 = float(input(\"Enter second number: \"))\n",
    "\n",
    "        if choice == '1':\n",
    "            print(\"Result:\", add(num1, num2))\n",
    "        elif choice == '2':\n",
    "            print(\"Result:\", subtract(num1, num2))\n",
    "        elif choice == '3':\n",
    "            print(\"Result:\", multiply(num1, num2))\n",
    "        elif choice == '4':\n",
    "            print(\"Result:\", divide(num1, num2))\n",
    "    else:\n",
    "        print(\"Invalid input. Please try again.\")\n"
   ]
  },
  {
   "cell_type": "markdown",
   "id": "adc0b75d-7d06-481e-ac3c-e7458f3a3029",
   "metadata": {},
   "source": [
    "thank you"
   ]
  },
  {
   "cell_type": "code",
   "execution_count": null,
   "id": "c3582bbc-ba20-450c-bd56-15b2a19be75e",
   "metadata": {},
   "outputs": [],
   "source": []
  }
 ],
 "metadata": {
  "kernelspec": {
   "display_name": "Python 3 (ipykernel)",
   "language": "python",
   "name": "python3"
  },
  "language_info": {
   "codemirror_mode": {
    "name": "ipython",
    "version": 3
   },
   "file_extension": ".py",
   "mimetype": "text/x-python",
   "name": "python",
   "nbconvert_exporter": "python",
   "pygments_lexer": "ipython3",
   "version": "3.12.7"
  }
 },
 "nbformat": 4,
 "nbformat_minor": 5
}
